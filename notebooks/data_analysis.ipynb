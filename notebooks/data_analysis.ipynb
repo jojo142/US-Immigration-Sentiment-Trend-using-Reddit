{
 "cells": [
  {
   "cell_type": "markdown",
   "id": "0effc9ab",
   "metadata": {},
   "source": [
    "# BUS 244 Genreative AI\n",
    "## Milestone 1: Data Analysis\n",
    "#### Samiya Islam, Anokh Palakurthi, Yuming Ruan, Madhurima Roy\n",
    "\n",
    "***Problem Motivation*** \n",
    "\n",
    "Public discourse around U.S. immigration often fluctuates in tone and focus depending on external events which is a from humanitarian crises and policy changes to economic and security shocks. While sentiment analysis provides a sense of whether public attitudes are positive or negative, it does not explain why these attitudes form or how they evolve.\n",
    "\n",
    "To gain deeper insight, this project extends traditional sentiment analysis into framing analysis such as identifying the underlying narrative “frames” that shape discussions. For instance, immigration can be discussed through humanitarian, economic, security, or political frames. Each frame highlights different aspects of the issue, influencing both public perception and policy discourse."
   ]
  },
  {
   "cell_type": "markdown",
   "id": "3032401e",
   "metadata": {},
   "source": [
    "***Dataset Overview***\n",
    "\n",
    "The dataset, reddit_sentiment.csv, contains user-generated content related to U.S. immigration topics collected from Reddit.The dataset spans multiple years (2015–2025), capturing shifts in online discussions around immigration during major U.S. policy events.\n",
    "\n",
    "Key fields include:\n",
    "- Column\tDescription\n",
    "- keyword\tPrimary keyword used for search/filtering (like “refugee”)\n",
    "- post_title\tTitle of the Reddit post\n",
    "- comment\tReddit user comment or response\n",
    "- score\tReddit upvote score (proxy for engagement)\n",
    "- created_utc\tTimestamp of comment creation\n",
    "- sentiment_score\tVADER-generated sentiment polarity score\n",
    "- sentiment_label\tCategorized sentiment (positive, neutral, negative)"
   ]
  },
  {
   "cell_type": "code",
   "execution_count": 309,
   "id": "bd36a641",
   "metadata": {},
   "outputs": [],
   "source": [
    "# Project: U.S. Immigration Framing Analysis\n",
    "\n",
    "import os\n",
    "import re\n",
    "import pandas as pd\n",
    "import numpy as np\n",
    "from sklearn.model_selection import train_test_split\n",
    "from sklearn.feature_extraction.text import TfidfVectorizer\n",
    "from sklearn.linear_model import LogisticRegression\n",
    "from sklearn.metrics import classification_report, confusion_matrix, accuracy_score\n",
    "import matplotlib.pyplot as plt\n",
    "import seaborn as sns\n",
    "\n"
   ]
  },
  {
   "cell_type": "code",
   "execution_count": 310,
   "id": "a55ca5cf",
   "metadata": {},
   "outputs": [
    {
     "name": "stdout",
     "output_type": "stream",
     "text": [
      "Loaded: ../data/reddit_comments.csv shape: (9674, 7)\n",
      "Columns: ['keyword', 'post_title', 'comment', 'score', 'created_utc', 'sentiment_score', 'sentiment_label']\n"
     ]
    }
   ],
   "source": [
    "try:\n",
    "    import nltk\n",
    "    nltk.data.find('corpora/stopwords')\n",
    "    from nltk.corpus import stopwords\n",
    "    STOPWORDS = set(stopwords.words('english'))\n",
    "except Exception:\n",
    "    STOPWORDS = \"english\"   # pass to TfidfVectorizer to use its built-in stopwords\n",
    "\n",
    "# 1. Load data\n",
    "DATA_PATH = \"../data/reddit_comments.csv\"   # <-- ensure file is in current directory or change path\n",
    "\n",
    "df = pd.read_csv(DATA_PATH)\n",
    "print(\"Loaded:\", DATA_PATH, \"shape:\", df.shape)\n",
    "print(\"Columns:\", df.columns.tolist())"
   ]
  },
  {
   "cell_type": "code",
   "execution_count": 311,
   "id": "122ca01a",
   "metadata": {},
   "outputs": [
    {
     "name": "stdout",
     "output_type": "stream",
     "text": [
      "After cleaning shape: (9674, 9)\n"
     ]
    },
    {
     "data": {
      "text/html": [
       "<div>\n",
       "<style scoped>\n",
       "    .dataframe tbody tr th:only-of-type {\n",
       "        vertical-align: middle;\n",
       "    }\n",
       "\n",
       "    .dataframe tbody tr th {\n",
       "        vertical-align: top;\n",
       "    }\n",
       "\n",
       "    .dataframe thead th {\n",
       "        text-align: right;\n",
       "    }\n",
       "</style>\n",
       "<table border=\"1\" class=\"dataframe\">\n",
       "  <thead>\n",
       "    <tr style=\"text-align: right;\">\n",
       "      <th></th>\n",
       "      <th>keyword</th>\n",
       "      <th>post_title</th>\n",
       "      <th>comment</th>\n",
       "      <th>clean_text</th>\n",
       "    </tr>\n",
       "  </thead>\n",
       "  <tbody>\n",
       "    <tr>\n",
       "      <th>0</th>\n",
       "      <td>immigrant</td>\n",
       "      <td>British expats 'in tears' as Spain to deport 5...</td>\n",
       "      <td>Users often report submissions from this site ...</td>\n",
       "      <td>british expats 'in tears' as spain to deport 5...</td>\n",
       "    </tr>\n",
       "    <tr>\n",
       "      <th>1</th>\n",
       "      <td>immigrant</td>\n",
       "      <td>British expats 'in tears' as Spain to deport 5...</td>\n",
       "      <td>I really don’t know what all the whining is ab...</td>\n",
       "      <td>british expats 'in tears' as spain to deport 5...</td>\n",
       "    </tr>\n",
       "    <tr>\n",
       "      <th>2</th>\n",
       "      <td>immigrant</td>\n",
       "      <td>British expats 'in tears' as Spain to deport 5...</td>\n",
       "      <td>Seriously why didn't they just register when a...</td>\n",
       "      <td>british expats 'in tears' as spain to deport 5...</td>\n",
       "    </tr>\n",
       "  </tbody>\n",
       "</table>\n",
       "</div>"
      ],
      "text/plain": [
       "     keyword                                         post_title  \\\n",
       "0  immigrant  British expats 'in tears' as Spain to deport 5...   \n",
       "1  immigrant  British expats 'in tears' as Spain to deport 5...   \n",
       "2  immigrant  British expats 'in tears' as Spain to deport 5...   \n",
       "\n",
       "                                             comment  \\\n",
       "0  Users often report submissions from this site ...   \n",
       "1  I really don’t know what all the whining is ab...   \n",
       "2  Seriously why didn't they just register when a...   \n",
       "\n",
       "                                          clean_text  \n",
       "0  british expats 'in tears' as spain to deport 5...  \n",
       "1  british expats 'in tears' as spain to deport 5...  \n",
       "2  british expats 'in tears' as spain to deport 5...  "
      ]
     },
     "metadata": {},
     "output_type": "display_data"
    }
   ],
   "source": [
    "# Combine title + comment into single text field (if available) and basic cleaning\n",
    "text_sources = []\n",
    "if \"post_title\" in df.columns: text_sources.append(\"post_title\")\n",
    "if \"comment\" in df.columns: text_sources.append(\"comment\")\n",
    "if not text_sources:\n",
    "    # fallback: first text-like column\n",
    "    text_sources = [df.columns[0]]\n",
    "\n",
    "df[\"text\"] = df[text_sources].astype(str).agg(\" \".join, axis=1)\n",
    "\n",
    "def clean_text(s):\n",
    "    s = str(s)\n",
    "    s = re.sub(r\"http\\S+|www\\.\\S+\", \" \", s)                    # remove URLs\n",
    "    s = re.sub(r\"\\[(.*?)\\]\\((.*?)\\)\", r\"\\1\", s)               # convert markdown links [text](url) -> text\n",
    "    s = re.sub(r\"@\\w+|\\#\", \" \", s)                            # mentions/hashtags\n",
    "    s = re.sub(r\"[^A-Za-z0-9\\s']\", \" \", s)                    # keep apostrophes optionally if needed\n",
    "    s = re.sub(r\"\\s+\", \" \", s).strip().lower()\n",
    "    return s\n",
    "\n",
    "df[\"clean_text\"] = df[\"text\"].apply(clean_text)\n",
    "df = df[df[\"clean_text\"].str.strip() != \"\"].reset_index(drop=True)\n",
    "print(\"After cleaning shape:\", df.shape)\n",
    "\n",
    "# quick peek\n",
    "display(df.head(3)[[\"keyword\"] + text_sources + [\"clean_text\"]])\n"
   ]
  },
  {
   "cell_type": "code",
   "execution_count": 312,
   "id": "4195d4a0",
   "metadata": {},
   "outputs": [
    {
     "name": "stdout",
     "output_type": "stream",
     "text": [
      "Saved a 200-sample file for manual labeling at: frame_labeling_sample.csv\n"
     ]
    }
   ],
   "source": [
    "# Create annotation sample (200 rows) for manual frame labeling if not already created\n",
    "SAMPLE_PATH = \"frame_labeling_sample.csv\"\n",
    "if not os.path.exists(SAMPLE_PATH):\n",
    "    # Filter to posts likely relevant to immigration (simple keyword filter)\n",
    "    filter_keywords = [\"immigra\", \"migrant\", \"refugee\", \"border\", \"asylum\", \"daca\", \"illegal\", \"citizen\", \"immigration\", \"deport\"]\n",
    "    df[\"is_relevant\"] = df[\"clean_text\"].apply(lambda x: any(k in x for k in filter_keywords))\n",
    "    sample_pool = df[df[\"is_relevant\"]].sample(frac=1, random_state=42) if df[\"is_relevant\"].sum() >= 200 else df.sample(frac=1, random_state=42)\n",
    "    sample = sample_pool.head(200).copy()\n",
    "    sample[\"frame_label\"] = \"\"   # to be filled manually by human annotators\n",
    "    sample.to_csv(SAMPLE_PATH, index=False)\n",
    "    print(f\"Saved a 200-sample file for manual labeling at: {SAMPLE_PATH}\")\n",
    "else:\n",
    "    print(f\"Manual labeling sample already exists at {SAMPLE_PATH}. Use that to annotate frames manually.\")"
   ]
  },
  {
   "cell_type": "markdown",
   "id": "466243ba",
   "metadata": {},
   "source": [
    "We selected a set of twelve frames to capture the full spectrum of U.S. immigration discourse from 2015–2025, combining classic framing categories with issues that have gained prominence over the decade. Traditional frames like Humanitarian, Economic, Security, Cultural, and Policy/Legal reflect longstanding debates around moral obligations, labor and economic impacts, national security, societal integration, and legislation. \n",
    "\n",
    "Additional frames like Health/Public Health, Political/Partisan, Racial/Ethnic Tensions, Environmental/Climate, Education/Youth, Tech/Surveillance, and International/Geopolitical really capture emergent and temporally relevant topics such as COVID-19, partisan polarization, climate migration, DACA students, surveillance technologies, and global refugee crises. This set allows us to track how Reddit users frame immigration issues across multiple dimensions, reflecting both domestic and international developments."
   ]
  },
  {
   "cell_type": "code",
   "execution_count": 313,
   "id": "08fce219",
   "metadata": {},
   "outputs": [
    {
     "name": "stdout",
     "output_type": "stream",
     "text": [
      "Rule-based frame distribution:\n",
      "frame_rule\n",
      "Other                                                                                 3224\n",
      "Political/Partisan                                                                    2725\n",
      "Security                                                                               899\n",
      "Policy/Legal                                                                           834\n",
      "Humanitarian, Political/Partisan                                                       426\n",
      "                                                                                      ... \n",
      "Tech / Surveillance                                                                      1\n",
      "Security, Political/Partisan, International / Geopolitical                               1\n",
      "Cultural, Political/Partisan, Racial/Ethnic Tensions, Education / Youth                  1\n",
      "Humanitarian, Economic, Political/Partisan, Racial/Ethnic Tensions                       1\n",
      "Humanitarian, Security, Cultural, Political/Partisan, International / Geopolitical       1\n",
      "Name: count, Length: 115, dtype: int64\n"
     ]
    }
   ],
   "source": [
    "# Rule-based framing baseline (always run) which is quick and interpretable\n",
    "def predict_frame_rule_intense_v2(text):\n",
    "    t = text.lower()\n",
    "    \n",
    "    frames = {\n",
    "        \"Humanitarian\": [\"refugee\", \"asylum\", \"human rights\", \"children\", \"family separation\", \n",
    "                         \"resettle\", \"camp\", \"shelter\", \"trauma\", \"victim\", \"displaced\", \"crisis\", \"conflict\"],\n",
    "        \"Economic\": [\"job\", \"jobs\", \"economy\", \"wage\", \"tax\", \"work\", \"business\", \"employment\", \n",
    "                     \"unemployment\", \"market\", \"income\", \"financial\", \"burden\"],\n",
    "        \"Security\": [\"border\", \"illegal\", \"security\", \"terror\", \"crime\", \"smuggling\", \n",
    "                     \"enforcement\", \"wall\", \"threat\", \"immigration control\", \"danger\", \"law enforcement\"],\n",
    "        \"Cultural\": [\"culture\", \"identity\", \"language\", \"values\", \"tradition\", \"integration\", \n",
    "                     \"heritage\", \"customs\", \"society\", \"assimilation\"],\n",
    "        \"Policy/Legal\": [\"policy\", \"law\", \"daca\", \"court\", \"executive order\", \"legislation\", \n",
    "                         \"bill\", \"administration\", \"immigration policy\", \"public charge\", \"regulation\", \"decree\"],\n",
    "        \"Health/Public Health\": [\"covid\", \"pandemic\", \"vaccine\", \"disease\", \"healthcare\", \"epidemic\", \"hospital\", \"quarantine\"],\n",
    "        \"Political/Partisan\": [\"trump\", \"biden\", \"election\", \"republican\", \"democrat\", \"party\", \"campaign\", \"politics\", \"politician\"],\n",
    "        \"Racial/Ethnic Tensions\": [\"racism\", \"xenophobia\", \"discrimination\", \"prejudice\", \"minority\", \"hate crime\"],\n",
    "        \"Environmental / Climate\": [\"climate refugee\", \"natural disaster\", \"flood\", \"hurricane\", \"drought\", \"sea level\", \"environmental migration\"],\n",
    "        \"Education / Youth\": [\"student visa\", \"daca student\", \"school\", \"college\", \"university\", \"education\", \"children education\"],\n",
    "        \"Tech / Surveillance\": [\"surveillance\", \"facial recognition\", \"border tech\", \"ai monitoring\", \"data collection\"],\n",
    "        \"International / Geopolitical\": [\"syria\", \"afghanistan\", \"central america\", \"unhcr\", \"un refugee\", \"war\", \"conflict zone\", \"foreign policy\"]\n",
    "    }\n",
    "    \n",
    "    # Count matches per frame\n",
    "    frame_scores = {k: sum(1 for kw in v if re.search(r'\\b' + re.escape(kw) + r'\\b', t)) for k,v in frames.items()}\n",
    "    \n",
    "    if all(score == 0 for score in frame_scores.values()):\n",
    "        return \"Other\"\n",
    "    \n",
    "    # Return frame(s) with highest score; if tie, return list joined\n",
    "    max_score = max(frame_scores.values())\n",
    "    top_frames = [f for f, s in frame_scores.items() if s == max_score]\n",
    "    return \", \".join(top_frames)\n",
    "\n",
    "df[\"frame_rule\"] = df[\"clean_text\"].apply(predict_frame_rule_intense_v2)\n",
    "print(\"Rule-based frame distribution:\")\n",
    "print(df[\"frame_rule\"].value_counts())\n",
    "\n"
   ]
  },
  {
   "cell_type": "code",
   "execution_count": 314,
   "id": "d0245b6d",
   "metadata": {},
   "outputs": [
    {
     "name": "stdout",
     "output_type": "stream",
     "text": [
      "Individual frame distribution (all frames counted separately):\n",
      "frame_rule_list\n",
      "Political/Partisan              3716\n",
      "Other                           3224\n",
      "Security                        1185\n",
      "Policy/Legal                    1167\n",
      "Humanitarian                     759\n",
      "Economic                         548\n",
      "Cultural                         208\n",
      "International / Geopolitical     181\n",
      "Education / Youth                125\n",
      "Health/Public Health              89\n",
      "Racial/Ethnic Tensions            67\n",
      "Environmental / Climate            5\n",
      "Tech / Surveillance                1\n",
      "Name: count, dtype: int64\n"
     ]
    },
    {
     "data": {
      "image/png": "[encoded data removed]",
      "text/plain": [
       "<Figure size 1000x500 with 1 Axes>"
      ]
     },
     "metadata": {},
     "output_type": "display_data"
    }
   ],
   "source": [
    "# Split comma-separated frames into lists\n",
    "df['frame_rule_list'] = df['frame_rule'].str.split(',\\s*')\n",
    "\n",
    "# Explode so each frame gets its own row\n",
    "df_exploded = df.explode('frame_rule_list')\n",
    "\n",
    "# Count each individual frame\n",
    "frame_counts = df_exploded['frame_rule_list'].value_counts()\n",
    "\n",
    "print(\"Individual frame distribution (all frames counted separately):\")\n",
    "print(frame_counts)\n",
    "\n",
    "# Optional: plot\n",
    "plt.figure(figsize=(10,5))\n",
    "sns.barplot(x=frame_counts.index, y=frame_counts.values)\n",
    "plt.xticks(rotation=45, ha='right')\n",
    "plt.title(\"Rule-based frame distribution (individual frames)\")\n",
    "plt.tight_layout()\n",
    "plt.show()"
   ]
  },
  {
   "cell_type": "code",
   "execution_count": 315,
   "id": "3b4ff525",
   "metadata": {},
   "outputs": [
    {
     "name": "stdout",
     "output_type": "stream",
     "text": [
      "Saved: reddit_cleaned_and_rule_frame.csv\n"
     ]
    }
   ],
   "source": [
    "# Save intermediate output\n",
    "df.to_csv(\"reddit_cleaned_and_rule_frame.csv\", index=False)\n",
    "print(\"Saved: reddit_cleaned_and_rule_frame.csv\")"
   ]
  },
  {
   "cell_type": "code",
   "execution_count": 316,
   "id": "8361c231",
   "metadata": {},
   "outputs": [
    {
     "name": "stdout",
     "output_type": "stream",
     "text": [
      "\n",
      "--- Sentiment baseline training ---\n",
      "Sentiment classification report:\n",
      "              precision    recall  f1-score   support\n",
      "\n",
      "    negative      0.808     0.758     0.782       685\n",
      "     neutral      0.732     0.881     0.800       556\n",
      "    positive      0.824     0.741     0.780       694\n",
      "\n",
      "    accuracy                          0.787      1935\n",
      "   macro avg      0.788     0.793     0.787      1935\n",
      "weighted avg      0.792     0.787     0.787      1935\n",
      "\n",
      "Accuracy: 0.7870801033591731\n"
     ]
    },
    {
     "name": "stderr",
     "output_type": "stream",
     "text": [
      "/opt/anaconda3/lib/python3.13/site-packages/sklearn/linear_model/_logistic.py:1247: FutureWarning: 'multi_class' was deprecated in version 1.5 and will be removed in 1.7. From then on, it will always use 'multinomial'. Leave it to its default value to avoid this warning.\n",
      "  warnings.warn(\n"
     ]
    }
   ],
   "source": [
    "#  Baseline model for SENTIMENT (TF-IDF + Logistic Regression) if sentiment_label exists\n",
    "if \"sentiment_label\" in df.columns:\n",
    "    print(\"\\n--- Sentiment baseline training ---\")\n",
    "    # Filter to the common labels\n",
    "    df_sent = df[df[\"sentiment_label\"].notna()].copy()\n",
    "    df_sent[\"sentiment_label\"] = df_sent[\"sentiment_label\"].astype(str).str.lower().str.strip()\n",
    "    allowed = [\"positive\", \"neutral\", \"negative\"]\n",
    "    df_sent = df_sent[df_sent[\"sentiment_label\"].isin(allowed)]\n",
    "    if df_sent.shape[0] < 50:\n",
    "        print(\"Not enough labeled sentiment rows to train a model (need >= ~50). Rows available:\", df_sent.shape[0])\n",
    "    else:\n",
    "        X = df_sent[\"clean_text\"]\n",
    "        y = df_sent[\"sentiment_label\"]\n",
    "        X_train, X_test, y_train, y_test = train_test_split(X, y, stratify=y, test_size=0.2, random_state=42)\n",
    "\n",
    "        # Ensure STOPWORDS is in a format accepted by TfidfVectorizer\n",
    "        # TfidfVectorizer expects stop_words to be one of: None, 'english', or a list\n",
    "        if isinstance(STOPWORDS, (set, frozenset)):\n",
    "            stop_words_param = list(STOPWORDS)\n",
    "        elif isinstance(STOPWORDS, list) or isinstance(STOPWORDS, str) or STOPWORDS is None:\n",
    "            stop_words_param = STOPWORDS\n",
    "        else:\n",
    "            # fallback to 'english' if unexpected type\n",
    "            stop_words_param = \"english\"\n",
    "\n",
    "        vectorizer = TfidfVectorizer(max_features=20000, ngram_range=(1,2), stop_words=stop_words_param)\n",
    "        X_train_tfidf = vectorizer.fit_transform(X_train)\n",
    "        X_test_tfidf = vectorizer.transform(X_test)\n",
    "        clf = LogisticRegression(max_iter=2000, class_weight=\"balanced\", solver=\"saga\", multi_class=\"multinomial\", random_state=42)\n",
    "        clf.fit(X_train_tfidf, y_train)\n",
    "        preds = clf.predict(X_test_tfidf)\n",
    "        print(\"Sentiment classification report:\")\n",
    "        print(classification_report(y_test, preds, digits=3))\n",
    "        print(\"Accuracy:\", accuracy_score(y_test, preds))\n",
    "        # Save model artifacts (optional)\n",
    "        # You can pickle vectorizer and clf if you want to reuse them later\n",
    "\n",
    "else:\n",
    "    print(\"\\nNo 'sentiment_label' column present — skipping sentiment baseline training.\")"
   ]
  },
  {
   "cell_type": "markdown",
   "id": "ac548c9d",
   "metadata": {},
   "source": [
    "## Research & Related Literature\n",
    "\n",
    "### Framing Theory Foundations\n",
    "\n",
    "The concept of “framing” in communication and political discourse originates in part with Robert M. Entman, who defined framing as the process of selecting certain aspects of perceived reality and making them *more salient* in a communicating text in order to promote particular problem definitions, causal interpretations, moral evaluations, and/or treatment recommendations. ([Frank Baumgartner][1]) This definition remains widely used: selection + salience = framing. ([Provalis Research][2])\n",
    "Entman’s articulation also emphasizes four key functions of frames:\n",
    "\n",
    "1. **Problem definition** : identifying an issue as a problem,\n",
    "2. **Causal interpretation** : attributing cause(s) to the problem,\n",
    "3. **Moral evaluation** : judging actors/behaviours as good or bad,\n",
    "4. **Treatment recommendation** :  suggesting solutions or responses. ([Frank Baumgartner][1])\n",
    "   This theoretical foundation helps to shape how we interpret public discourse on immigration: when Reddit posts discuss immigration, we can ask not only *what is being said*, but *how* the issue is framed (e.g., as a security threat vs. humanitarian opportunity) and what kinds of solutions or moral judgements are implied.\n",
    "\n",
    "### Framing in Media and Policy Discourse\n",
    "\n",
    "In the political science and communication literatures, framing has been used to assess how media and policy discussions evolve and how they differ across issues. For example, the study by Amber E. Boydstun, Dallas Card, Justin H. Gross, Philip Resnik and Noah A. Smith (“Tracking the Development of Media Frames within and across Policy Issues”, 2014) examines frame dynamics across multiple policy domains. They show that frame prevalence shifts over time and differs by policy domain. ([Homes at Washington][3]) Their work is helpful for our project in two ways:\n",
    "\n",
    "* It shows the importance of tracking **frame dynamics** (how frames evolve) rather than treating framing as static;\n",
    "* It reinforces that framing analysis can extend beyond media texts into policy contexts and over time, which aligns with our interest in how Reddit discourse around immigration changes following external shocks.\n",
    "  Using this as a precedent, we treat Reddit data as a form of public discourse where frame evolution can be observed.\n",
    "\n",
    "### Framing in Social Media, Specifically Immigration Discourse\n",
    "\n",
    "The third paper, by Julia Mendelsohn, Ceren Budak and David Jurgens (2021), “Modeling Framing in Immigration Discourse on Social Media” (NAACL 2021) is directly aligned with your project. ([ACL Anthology][4]) They create a labeled dataset of immigration-related tweets, categorize frames (including immigration-specific ones and generic issue ones), and demonstrate how user ideology, region, and engagement behaviors (retweets/favorites) correlate with framing. Some key findings include:\n",
    "\n",
    "* Generic, issue-agnostic frames may obscure important patterns; immigration-specific frames reveal region/ideology differences. ([ACL Anthology][5])\n",
    "* Frames oriented toward human interest, culture, and politics tend to have *higher engagement* on social media. ([ACL Anthology][4])\n",
    "  This work gives strong support for our approach: using Reddit (similar to Twitter) and focusing on framing, not just sentiment, for immigration discourse. It also suggests that framing classification on social media is feasible and meaningful.\n",
    "\n",
    "\n",
    "[1]: https://fbaum.unc.edu/teaching/articles/J-Communication-1993-Entman.pdf?utm_source=chatgpt.com \"[PDF] Framing: Toward Clarification of a Fractured Paradigm\"\n",
    "[2]: https://provalisresearch.com/solutions-2/applications/what-is-media-framing-analysis-2/?utm_source=chatgpt.com \"What is Media Framing Analysis? - Provalis Research\"\n",
    "[3]: https://homes.cs.washington.edu/~nasmith/papers/boydstun%2Bcard%2Bgross%2Bresnik%2Bsmith.apsa14.pdf?utm_source=chatgpt.com \"Tracking the Development of Media Frames within and ...\"\n",
    "[4]: https://aclanthology.org/2021.naacl-main.179.pdf?utm_source=chatgpt.com \"Modeling Framing in Immigration Discourse on Social Media\"\n",
    "[5]: https://aclanthology.org/2021.naacl-main.179/?utm_source=chatgpt.com \"Modeling Framing in Immigration Discourse on Social Media\"\n",
    "\n"
   ]
  },
  {
   "cell_type": "markdown",
   "id": "32cde845",
   "metadata": {},
   "source": [
    "## Moving Forward\n",
    "\n",
    "### How we’ll adopt their method for Mileshtone 2\n",
    "\n",
    "1. **Frame codebook / definitions**\n",
    "\n",
    "   * For each frame, document: what kinds of discourse it includes, sample keywords, criteria for labeling.\n",
    "   * Decide: Will posts allow multiple frames or only one primary frame? (Prior studies allow overlapping but designate a primary frame.)\n",
    "   \n",
    "2. **Manual labeling / seed dataset creation**\n",
    "\n",
    "   * Sample 150–200 posts (as we previously planned).\n",
    "   * Have at least two annotators label each post (frame category, maybe secondary frame).\n",
    "3. **Automated labeling / supervised model**\n",
    "\n",
    "   * Use the manually labelled seed set to train or test a simple classifier (or few-shot LLM prompt) that assigns frames to the full Reddit dataset.\n",
    "   * Prior work used supervised models and showed performance per frame; we may do a simpler version (heuristic, few-shot) given our timeframe.\n",
    "   * Evaluate the model by comparing its predictions to the seed set (precision/recall/F1, confusion matrix).\n",
    "4. **Frame dynamics & temporal/event analysis**\n",
    "\n",
    "   * Once every post has a frame label (manual or automated), explore how frame prevalence changes over time.\n",
    "   * Link frame prevalence to external events (e.g., travel bans, refugee surges).\n",
    "   * Optionally explore how sentiment interacts with frames: e.g., do certain frames tend to be more negative than others?\n",
    "\n",
    "5. **Ethical, data and limitations section**\n",
    "\n",
    "   * Prior work emphasises transparency in annotation & modelling. \n",
    "   * Include how we collected data, how we anonymised it, handled biases, will paraphrase instead of quoting verbatim.\n"
   ]
  }
 ],
 "metadata": {
  "kernelspec": {
   "display_name": "base",
   "language": "python",
   "name": "python3"
  },
  "language_info": {
   "codemirror_mode": {
    "name": "ipython",
    "version": 3
   },
   "file_extension": ".py",
   "mimetype": "text/x-python",
   "name": "python",
   "nbconvert_exporter": "python",
   "pygments_lexer": "ipython3",
   "version": "3.13.5"
  }
 },
 "nbformat": 4,
 "nbformat_minor": 5
}
